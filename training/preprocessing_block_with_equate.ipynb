{
 "cells": [
  {
   "cell_type": "code",
   "execution_count": 14,
   "id": "vital-departure",
   "metadata": {},
   "outputs": [],
   "source": [
    "import pandas as pd\n",
    "import sklearn \n",
    "import numpy as np\n",
    "from numpy import asarray, save, load, savetxt, loadtxt\n",
    "import difflib\n",
    "from sklearn.preprocessing import LabelEncoder, OneHotEncoder #, OneHotEncoder\n",
    "\n",
    "from functions import *"
   ]
  },
  {
   "cell_type": "code",
   "execution_count": null,
   "id": "organizational-marsh",
   "metadata": {},
   "outputs": [],
   "source": [
    "import matplotlib.pyplot as plt\n"
   ]
  },
  {
   "cell_type": "code",
   "execution_count": null,
   "id": "answering-client",
   "metadata": {},
   "outputs": [],
   "source": [
    "plt.hist(k,bins=6)\n",
    "plt.title(\"Dataset Histogram\")\n",
    "plt.xlabel(\"BPM\")\n",
    "plt.ylabel(\"Recorrência\")\n",
    "plt.show()"
   ]
  },
  {
   "cell_type": "code",
   "execution_count": null,
   "id": "criminal-personal",
   "metadata": {},
   "outputs": [],
   "source": [
    "\n",
    "unique, counts = np.unique(Y, return_counts=True)\n",
    "dict(zip(unique, counts))"
   ]
  },
  {
   "cell_type": "code",
   "execution_count": null,
   "id": "advanced-marble",
   "metadata": {},
   "outputs": [],
   "source": [
    "location = []\n",
    "for i in range(0,len(Y)):\n",
    "    if Y[i]== 'Lembrancinhas':\n",
    "        location.append(i)"
   ]
  },
  {
   "cell_type": "code",
   "execution_count": null,
   "id": "direct-income",
   "metadata": {},
   "outputs": [],
   "source": [
    "Xequate = []\n",
    "Yequate = []\n",
    "count = 0\n",
    "for i in range(0,len(Y)):\n",
    "    flag = 0\n",
    "    for j in range(0,round(len(location)/2)):\n",
    "        if i == location[j+1]:\n",
    "            flag = 1\n",
    "            break\n",
    "    if flag != 1:\n",
    "        Xequate.append(X[i][0])\n",
    "        Yequate.append(Y[i])\n",
    "        count+=1\n",
    "    if count % 10000 == 0:\n",
    "        print(f\"We've already made {count} calculations.\")\n",
    "print(f\"We've already made finished in {count} similaritys calculations.\")\n",
    "\n",
    "            "
   ]
  },
  {
   "cell_type": "code",
   "execution_count": null,
   "id": "reserved-scott",
   "metadata": {},
   "outputs": [],
   "source": [
    "print(len(Xequate), len(Yequate))"
   ]
  },
  {
   "cell_type": "code",
   "execution_count": null,
   "id": "communist-aluminum",
   "metadata": {},
   "outputs": [],
   "source": [
    "pairwise_similarity = calc_pairwise_similarity(Xequate)\n",
    "title_similarity = max_similarity(pairwise_similarity)  "
   ]
  },
  {
   "cell_type": "code",
   "execution_count": null,
   "id": "annual-surface",
   "metadata": {},
   "outputs": [],
   "source": [
    "X_equate = np.array(title_similarity).reshape(29238,1)\n",
    "X_equate_str = decoder_label_to_unique(X_equate,np.array(Xequate).reshape(-1,1))\n",
    "print(X_equate_str)"
   ]
  },
  {
   "cell_type": "code",
   "execution_count": null,
   "id": "derived-division",
   "metadata": {},
   "outputs": [],
   "source": [
    "len(np.unique(X_equate))"
   ]
  },
  {
   "cell_type": "code",
   "execution_count": null,
   "id": "capital-hampshire",
   "metadata": {},
   "outputs": [],
   "source": [
    "labelencoder_Y = LabelEncoder()\n",
    "labels = labelencoder_Y = LabelEncoder()\n",
    "Y_equate = labelencoder_Y.fit_transform(Yequate)"
   ]
  },
  {
   "cell_type": "code",
   "execution_count": null,
   "id": "hazardous-transmission",
   "metadata": {},
   "outputs": [],
   "source": [
    "ondehotencoder = OneHotEncoder()\n",
    "Y_equate = ondehotencoder.fit_transform(Y_equate.reshape(-1, 1)).toarray()\n",
    "ondehotencoder = OneHotEncoder()\n",
    "X_equate2 = ondehotencoder.fit_transform(X_equate.reshape(-1, 1)).toarray()"
   ]
  },
  {
   "cell_type": "code",
   "execution_count": null,
   "id": "tropical-freeware",
   "metadata": {},
   "outputs": [],
   "source": [
    "X_equate"
   ]
  },
  {
   "cell_type": "code",
   "execution_count": null,
   "id": "latin-qatar",
   "metadata": {},
   "outputs": [],
   "source": [
    "\n",
    "#MODEL\n",
    "\n",
    "# Imports\n",
    "import tensorflow\n",
    "from tensorflow.keras.models import Sequential\n",
    "from tensorflow.keras.layers import Dense, Dropout\n",
    "\n",
    "# Create the model\n",
    "model2 = Sequential()\n",
    "model2.add(Dense(16, input_shape=XX.shape, activation='relu'))\n",
    "\n",
    "model2.add(Dense(8, input_shape=XX.shape, activation='relu'))\n",
    "\n",
    "model2.add(Dense(YY.shape[1], activation='softmax'))\n",
    "\n",
    "model2.summary()"
   ]
  },
  {
   "cell_type": "code",
   "execution_count": null,
   "id": "alleged-ballot",
   "metadata": {},
   "outputs": [],
   "source": [
    "# Configure the model and start training\n",
    "model2.compile(loss='categorical_crossentropy', optimizer='adam', metrics=['accuracy'])\n",
    "model2.fit(X_equate2, Y_equate, epochs=10, batch_size=64, verbose=1)\n"
   ]
  },
  {
   "cell_type": "code",
   "execution_count": null,
   "id": "positive-invasion",
   "metadata": {},
   "outputs": [],
   "source": []
  },
  {
   "cell_type": "code",
   "execution_count": null,
   "id": "finnish-extreme",
   "metadata": {},
   "outputs": [],
   "source": []
  }
 ],
 "metadata": {
  "kernelspec": {
   "display_name": "Python 3",
   "language": "python",
   "name": "python3"
  },
  "language_info": {
   "codemirror_mode": {
    "name": "ipython",
    "version": 3
   },
   "file_extension": ".py",
   "mimetype": "text/x-python",
   "name": "python",
   "nbconvert_exporter": "python",
   "pygments_lexer": "ipython3",
   "version": "3.8.6"
  }
 },
 "nbformat": 4,
 "nbformat_minor": 5
}
