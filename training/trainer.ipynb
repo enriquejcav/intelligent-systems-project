{
 "cells": [
  {
   "cell_type": "code",
   "execution_count": 1,
   "id": "selected-mainstream",
   "metadata": {},
   "outputs": [],
   "source": [
    "import pandas as pd\n",
    "import sklearn \n",
    "import numpy as np\n",
    "from functions import *\n",
    "import h5py\n",
    "import os"
   ]
  },
  {
   "cell_type": "code",
   "execution_count": 2,
   "id": "allied-ordinary",
   "metadata": {},
   "outputs": [],
   "source": [
    "data = h5py.File(os.environ['PREPROCESSED_DATA'], 'r')"
   ]
  },
  {
   "cell_type": "code",
   "execution_count": 4,
   "id": "interpreted-absorption",
   "metadata": {},
   "outputs": [
    {
     "data": {
      "text/plain": [
       "<KeysViewHDF5 ['X_test', 'X_train', 'Y_test', 'Y_train']>"
      ]
     },
     "execution_count": 4,
     "metadata": {},
     "output_type": "execute_result"
    }
   ],
   "source": [
    "data.keys()"
   ]
  },
  {
   "cell_type": "code",
   "execution_count": 7,
   "id": "framed-artwork",
   "metadata": {},
   "outputs": [],
   "source": [
    "X_train = np.array(data.get('X_train').get('X_train'))\n",
    "Y_train = np.array(data.get('Y_train').get('Y_train'))\n",
    "X_test = np.array(data.get('X_test').get('X_test'))\n",
    "Y_test = np.array(data.get('Y_test').get('Y_test'))"
   ]
  },
  {
   "cell_type": "code",
   "execution_count": 8,
   "id": "downtown-girlfriend",
   "metadata": {},
   "outputs": [
    {
     "name": "stdout",
     "output_type": "stream",
     "text": [
      "(38000, 2049) (38000, 6) (500, 2049) (500, 6)\n"
     ]
    }
   ],
   "source": [
    "print(X_train.shape,Y_train.shape,X_test.shape,Y_test.shape)"
   ]
  },
  {
   "cell_type": "code",
   "execution_count": null,
   "id": "cleared-cleanup",
   "metadata": {},
   "outputs": [],
   "source": [
    "######## MODEL 1 ############\n",
    "#build a simple model like decision tree"
   ]
  },
  {
   "cell_type": "code",
   "execution_count": 19,
   "id": "bibliographic-cameroon",
   "metadata": {},
   "outputs": [
    {
     "name": "stdout",
     "output_type": "stream",
     "text": [
      "Iteration 1, loss = 2.62270858\n",
      "Iteration 2, loss = 1.58255250\n",
      "Iteration 3, loss = 1.39128762\n",
      "Iteration 4, loss = 1.31193234\n",
      "Iteration 5, loss = 1.26775666\n",
      "Iteration 6, loss = 1.24057505\n",
      "Iteration 7, loss = 1.22341303\n",
      "Iteration 8, loss = 1.21129786\n",
      "Iteration 9, loss = 1.20266015\n",
      "Iteration 10, loss = 1.19670992\n",
      "Iteration 11, loss = 1.19153725\n",
      "Iteration 12, loss = 1.18823933\n",
      "Iteration 13, loss = 1.18540617\n",
      "Iteration 14, loss = 1.18286183\n",
      "Iteration 15, loss = 1.18162470\n",
      "Iteration 16, loss = 1.17982235\n",
      "Iteration 17, loss = 1.17877226\n",
      "Iteration 18, loss = 1.17737910\n",
      "Iteration 19, loss = 1.17670239\n",
      "Iteration 20, loss = 1.17576937\n",
      "Iteration 21, loss = 1.17553724\n",
      "Iteration 22, loss = 1.17435214\n",
      "Iteration 23, loss = 1.17440346\n",
      "Iteration 24, loss = 1.17334602\n",
      "Iteration 25, loss = 1.17265931\n",
      "Iteration 26, loss = 1.17276437\n",
      "Iteration 27, loss = 1.17220490\n",
      "Iteration 28, loss = 1.17201196\n",
      "Iteration 29, loss = 1.17139153\n",
      "Iteration 30, loss = 1.17147910\n",
      "Iteration 31, loss = 1.17142950\n",
      "Iteration 32, loss = 1.17140621\n",
      "Iteration 33, loss = 1.17046917\n",
      "Iteration 34, loss = 1.17054870\n",
      "Iteration 35, loss = 1.17042926\n",
      "Iteration 36, loss = 1.17043523\n",
      "Iteration 37, loss = 1.16990381\n",
      "Iteration 38, loss = 1.16955970\n",
      "Iteration 39, loss = 1.16966488\n",
      "Iteration 40, loss = 1.16998008\n",
      "Iteration 41, loss = 1.16979009\n",
      "Iteration 42, loss = 1.16916001\n",
      "Iteration 43, loss = 1.16944393\n",
      "Iteration 44, loss = 1.16971602\n",
      "Iteration 45, loss = 1.16919194\n",
      "Iteration 46, loss = 1.16879917\n",
      "Iteration 47, loss = 1.16869669\n",
      "Iteration 48, loss = 1.16883808\n",
      "Iteration 49, loss = 1.16856248\n",
      "Iteration 50, loss = 1.16860612\n"
     ]
    },
    {
     "name": "stderr",
     "output_type": "stream",
     "text": [
      "/usr/local/lib/python3.8/site-packages/sklearn/neural_network/_multilayer_perceptron.py:614: ConvergenceWarning: Stochastic Optimizer: Maximum iterations (50) reached and the optimization hasn't converged yet.\n",
      "  warnings.warn(\n"
     ]
    },
    {
     "data": {
      "text/plain": [
       "0.57"
      ]
     },
     "execution_count": 19,
     "metadata": {},
     "output_type": "execute_result"
    }
   ],
   "source": [
    "from sklearn.neural_network import MLPClassifier\n",
    "\n",
    "\n",
    "clf = MLPClassifier(random_state=3, max_iter=50, verbose=2).fit(X_train, Y_train)\n",
    "\n",
    "\n",
    "clf.score(X_test, Y_test)"
   ]
  },
  {
   "cell_type": "code",
   "execution_count": null,
   "id": "failing-taste",
   "metadata": {},
   "outputs": [],
   "source": []
  },
  {
   "cell_type": "code",
   "execution_count": null,
   "id": "literary-funeral",
   "metadata": {},
   "outputs": [],
   "source": []
  },
  {
   "cell_type": "code",
   "execution_count": null,
   "id": "contrary-stuart",
   "metadata": {},
   "outputs": [],
   "source": [
    "######## MODEL 2 ############"
   ]
  },
  {
   "cell_type": "code",
   "execution_count": 10,
   "id": "republican-philosophy",
   "metadata": {},
   "outputs": [
    {
     "name": "stdout",
     "output_type": "stream",
     "text": [
      "Model: \"sequential_1\"\n",
      "_________________________________________________________________\n",
      "Layer (type)                 Output Shape              Param #   \n",
      "=================================================================\n",
      "dense (Dense)                (None, 38000, 16)         32800     \n",
      "_________________________________________________________________\n",
      "dense_1 (Dense)              (None, 38000, 8)          136       \n",
      "_________________________________________________________________\n",
      "dense_2 (Dense)              (None, 38000, 6)          54        \n",
      "=================================================================\n",
      "Total params: 32,990\n",
      "Trainable params: 32,990\n",
      "Non-trainable params: 0\n",
      "_________________________________________________________________\n"
     ]
    }
   ],
   "source": [
    "# Imports\n",
    "import tensorflow\n",
    "from tensorflow.keras.models import Sequential\n",
    "from tensorflow.keras.layers import Dense, Dropout\n",
    "\n",
    "\n",
    "# Create the model\n",
    "model = Sequential()\n",
    "model.add(Dense(16, input_shape=X_train.shape, activation='relu'))\n",
    "\n",
    "model.add(Dense(8, activation='relu'))\n",
    "\n",
    "model.add(Dense(Y_train.shape[1], activation='softmax'))\n",
    "\n",
    "model.summary()"
   ]
  },
  {
   "cell_type": "code",
   "execution_count": 12,
   "id": "guided-editing",
   "metadata": {},
   "outputs": [
    {
     "name": "stdout",
     "output_type": "stream",
     "text": [
      "Epoch 1/5\n",
      "WARNING:tensorflow:Model was constructed with shape (None, 38000, 2049) for input KerasTensor(type_spec=TensorSpec(shape=(None, 38000, 2049), dtype=tf.float32, name='dense_input'), name='dense_input', description=\"created by layer 'dense_input'\"), but it was called on an input with incompatible shape (None, 2049).\n",
      "WARNING:tensorflow:Model was constructed with shape (None, 38000, 2049) for input KerasTensor(type_spec=TensorSpec(shape=(None, 38000, 2049), dtype=tf.float32, name='dense_input'), name='dense_input', description=\"created by layer 'dense_input'\"), but it was called on an input with incompatible shape (None, 2049).\n",
      "594/594 [==============================] - 2s 2ms/step - loss: 0.6671 - accuracy: 0.7551\n",
      "Epoch 2/5\n",
      "594/594 [==============================] - 1s 2ms/step - loss: 0.6774 - accuracy: 0.7507\n",
      "Epoch 3/5\n",
      "594/594 [==============================] - 1s 2ms/step - loss: 0.6642 - accuracy: 0.7550\n",
      "Epoch 4/5\n",
      "594/594 [==============================] - 1s 2ms/step - loss: 0.6687 - accuracy: 0.7532\n",
      "Epoch 5/5\n",
      "594/594 [==============================] - 1s 2ms/step - loss: 0.6718 - accuracy: 0.7519\n"
     ]
    },
    {
     "data": {
      "text/plain": [
       "<tensorflow.python.keras.callbacks.History at 0x7f945c50f520>"
      ]
     },
     "execution_count": 12,
     "metadata": {},
     "output_type": "execute_result"
    }
   ],
   "source": [
    "# Configure the model and start training\n",
    "model.compile(loss='categorical_crossentropy', optimizer='adam', metrics=['accuracy'])\n",
    "model.fit(X_train, Y_train, epochs=5, batch_size=64, verbose=1)"
   ]
  },
  {
   "cell_type": "code",
   "execution_count": 13,
   "id": "present-sherman",
   "metadata": {},
   "outputs": [
    {
     "name": "stdout",
     "output_type": "stream",
     "text": [
      "WARNING:tensorflow:Model was constructed with shape (None, 38000, 2049) for input KerasTensor(type_spec=TensorSpec(shape=(None, 38000, 2049), dtype=tf.float32, name='dense_input'), name='dense_input', description=\"created by layer 'dense_input'\"), but it was called on an input with incompatible shape (None, 2049).\n",
      "16/16 [==============================] - 0s 2ms/step - loss: 2.6273 - accuracy: 0.5920\n",
      "Test results - Loss: 2.62734055519104 - Accuracy: 0.5920000076293945%\n"
     ]
    }
   ],
   "source": [
    "# Test the model after training\n",
    "test_results = model.evaluate(X_test, Y_test, verbose=1)\n",
    "print(f'Test results - Loss: {test_results[0]} - Accuracy: {test_results[1]}%')"
   ]
  },
  {
   "cell_type": "code",
   "execution_count": null,
   "id": "tamil-database",
   "metadata": {},
   "outputs": [],
   "source": [
    "predicao = model.predict(X_test__).tolist()"
   ]
  },
  {
   "cell_type": "code",
   "execution_count": null,
   "id": "rolled-investigator",
   "metadata": {},
   "outputs": [],
   "source": [
    "posicao = []\n",
    "for i in range(0,len(predicao)):\n",
    "    posicao.append(predicao[i].index(max(predicao[i])))\n",
    "    \n",
    "print(posicao)"
   ]
  },
  {
   "cell_type": "code",
   "execution_count": null,
   "id": "useful-smile",
   "metadata": {},
   "outputs": [],
   "source": []
  },
  {
   "cell_type": "code",
   "execution_count": null,
   "id": "separated-cradle",
   "metadata": {},
   "outputs": [],
   "source": [
    "a = 0\n",
    "for i in range(0,len(X_test_labelled)):\n",
    "    if predict[i]==Y_test[i]:\n",
    "        a+=1\n",
    "\n",
    "print(a*100/500)"
   ]
  },
  {
   "cell_type": "code",
   "execution_count": null,
   "id": "weekly-button",
   "metadata": {},
   "outputs": [],
   "source": []
  }
 ],
 "metadata": {
  "kernelspec": {
   "display_name": "Python 3",
   "language": "python",
   "name": "python3"
  },
  "language_info": {
   "codemirror_mode": {
    "name": "ipython",
    "version": 3
   },
   "file_extension": ".py",
   "mimetype": "text/x-python",
   "name": "python",
   "nbconvert_exporter": "python",
   "pygments_lexer": "ipython3",
   "version": "3.8.6"
  }
 },
 "nbformat": 4,
 "nbformat_minor": 5
}