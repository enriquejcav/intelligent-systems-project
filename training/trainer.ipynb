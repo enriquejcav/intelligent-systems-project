{
 "cells": [
  {
   "cell_type": "code",
   "execution_count": 1,
   "id": "selected-mainstream",
   "metadata": {},
   "outputs": [],
   "source": [
    "import pandas as pd\n",
    "import sklearn \n",
    "import numpy as np\n",
    "from functions import *\n"
   ]
  },
  {
   "cell_type": "code",
   "execution_count": null,
   "id": "allied-ordinary",
   "metadata": {},
   "outputs": [],
   "source": []
  },
  {
   "cell_type": "code",
   "execution_count": null,
   "id": "cleared-cleanup",
   "metadata": {},
   "outputs": [],
   "source": [
    "######## MODEL 1 ############\n",
    "#build a simple model like decision tree"
   ]
  },
  {
   "cell_type": "code",
   "execution_count": null,
   "id": "failing-taste",
   "metadata": {},
   "outputs": [],
   "source": [
    "a = 0\n",
    "for i in range(0,len(X_test_labelled)):\n",
    "    if predict[i]==Y_test[i]:\n",
    "        a+=1\n",
    "\n",
    "print(a*100/500)"
   ]
  },
  {
   "cell_type": "code",
   "execution_count": null,
   "id": "decreased-target",
   "metadata": {},
   "outputs": [],
   "source": [
    "X_train[0][0]"
   ]
  },
  {
   "cell_type": "code",
   "execution_count": null,
   "id": "literary-funeral",
   "metadata": {},
   "outputs": [],
   "source": []
  },
  {
   "cell_type": "code",
   "execution_count": null,
   "id": "contrary-stuart",
   "metadata": {},
   "outputs": [],
   "source": [
    "######## MODEL 2 ############"
   ]
  },
  {
   "cell_type": "code",
   "execution_count": null,
   "id": "republican-philosophy",
   "metadata": {},
   "outputs": [],
   "source": [
    "# Imports\n",
    "import tensorflow\n",
    "from tensorflow.keras.models import Sequential\n",
    "from tensorflow.keras.layers import Dense, Dropout\n",
    "\n",
    "\n",
    "# Create the model\n",
    "model = Sequential()\n",
    "model.add(Dense(16, input_shape=XX.shape, activation='relu'))\n",
    "\n",
    "model.add(Dense(8, activation='relu'))\n",
    "\n",
    "model.add(Dense(YY.shape[1], activation='softmax'))\n",
    "\n",
    "model.summary()"
   ]
  },
  {
   "cell_type": "code",
   "execution_count": null,
   "id": "guided-editing",
   "metadata": {},
   "outputs": [],
   "source": [
    "# Configure the model and start training\n",
    "model.compile(loss='categorical_crossentropy', optimizer='adam', metrics=['accuracy'])\n",
    "model.fit(X_train__, Y_train__, epochs=50, batch_size=64, verbose=1)"
   ]
  },
  {
   "cell_type": "code",
   "execution_count": null,
   "id": "cooperative-bicycle",
   "metadata": {},
   "outputs": [],
   "source": [
    "print(X_test__.shape,Y_test__.shape)"
   ]
  },
  {
   "cell_type": "code",
   "execution_count": null,
   "id": "present-sherman",
   "metadata": {},
   "outputs": [],
   "source": [
    "# Test the model after training\n",
    "test_results = model.evaluate(X_test__, Y_test__, verbose=1)\n",
    "print(f'Test results - Loss: {test_results[0]} - Accuracy: {test_results[1]}%')"
   ]
  },
  {
   "cell_type": "code",
   "execution_count": null,
   "id": "tamil-database",
   "metadata": {},
   "outputs": [],
   "source": [
    "predicao = model.predict(X_test__).tolist()"
   ]
  },
  {
   "cell_type": "code",
   "execution_count": null,
   "id": "rolled-investigator",
   "metadata": {},
   "outputs": [],
   "source": [
    "posicao = []\n",
    "for i in range(0,len(predicao)):\n",
    "    posicao.append(predicao[i].index(max(predicao[i])))\n",
    "    \n",
    "print(posicao)"
   ]
  }
 ],
 "metadata": {
  "kernelspec": {
   "display_name": "Python 3",
   "language": "python",
   "name": "python3"
  },
  "language_info": {
   "codemirror_mode": {
    "name": "ipython",
    "version": 3
   },
   "file_extension": ".py",
   "mimetype": "text/x-python",
   "name": "python",
   "nbconvert_exporter": "python",
   "pygments_lexer": "ipython3",
   "version": "3.8.6"
  }
 },
 "nbformat": 4,
 "nbformat_minor": 5
}